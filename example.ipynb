{
 "cells": [
  {
   "cell_type": "code",
   "execution_count": null,
   "id": "08fe0c59",
   "metadata": {},
   "outputs": [],
   "source": [
    "from pathlib import Path\n",
    "\n",
    "import torch\n",
    "import torch.nn as nn\n",
    "import numpy as np\n",
    "import matplotlib.pyplot as plt\n",
    "from timesformer.models.vit import TimeSformer"
   ]
  },
  {
   "cell_type": "code",
   "execution_count": null,
   "id": "10239d32",
   "metadata": {},
   "outputs": [],
   "source": [
    "# model_file = Path.home()/'TimeSformer_divST_8x32_224_K600.pyth'\n",
    "\n",
    "# 'TimeSformer/models/TimeSformer_divST_8x32_224_K600.pyth'\n",
    "# model_file.exists()"
   ]
  },
  {
   "cell_type": "code",
   "execution_count": null,
   "id": "652fb03e",
   "metadata": {},
   "outputs": [],
   "source": [
    "model_file = 'TimeSformer_divST_8x32_224_K600.pyth'\n",
    "model = TimeSformer(img_size=224, \n",
    "                    num_classes=600, \n",
    "                    num_frames=8, \n",
    "                    attention_type='divided_space_time',  \n",
    "                    pretrained_model=str(model_file))"
   ]
  },
  {
   "cell_type": "code",
   "execution_count": null,
   "id": "83de13c5-791c-4db7-aba4-6d29ce88584e",
   "metadata": {},
   "outputs": [],
   "source": [
    "dummy_video = torch.randn(2, 3, 8, 224, 224) # (batch x channels x frames x height x width)\n",
    "pred = model(dummy_video,) # (2, 600)\n",
    "\n",
    "assert pred.shape == (2,600)\n",
    "pred.shape"
   ]
  },
  {
   "cell_type": "code",
   "execution_count": null,
   "id": "2dcdda7e-3dee-4418-bf9a-def07b38d73e",
   "metadata": {},
   "outputs": [],
   "source": [
    "# x.shape = [T.B x C x H x W] -> [T.B x C.H.W]\n",
    "T, B, C, H, W = 80, 4, 3, 11, 11\n",
    "foo = torch.randn(T, B, C, H, W)\n",
    "foo_f1 = foo.view(T * B, -1)\n",
    "foo_f2 = torch.flatten(foo, 2)\n",
    "foo_f2 = torch.reshape(foo, (T*B, -1))\n",
    "foo_f1.shape, foo_f2.shape\n",
    "foo_f1 == foo_f2\n",
    "torch.sum(foo_f1 == foo_f2)"
   ]
  },
  {
   "cell_type": "code",
   "execution_count": null,
   "id": "eb09e8b0-f54d-4207-80ee-b5d05445c11c",
   "metadata": {},
   "outputs": [],
   "source": [
    "divs = 12\n",
    "foo = np.linspace(0, 250, num=divs).reshape(1, divs)\n",
    "foo_big = np.tile(foo, (divs, 1))\n",
    "foo.shape, foo_big.shape\n",
    "plt.imshow(foo_big)"
   ]
  }
 ],
 "metadata": {
  "kernelspec": {
   "display_name": "Python 3",
   "language": "python",
   "name": "python3"
  },
  "language_info": {
   "codemirror_mode": {
    "name": "ipython",
    "version": 3
   },
   "file_extension": ".py",
   "mimetype": "text/x-python",
   "name": "python",
   "nbconvert_exporter": "python",
   "pygments_lexer": "ipython3",
   "version": "3.7.9"
  }
 },
 "nbformat": 4,
 "nbformat_minor": 5
}