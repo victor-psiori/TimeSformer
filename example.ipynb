{
 "cells": [
  {
   "cell_type": "code",
   "execution_count": null,
   "id": "08fe0c59",
   "metadata": {},
   "outputs": [],
   "source": [
    "from pathlib import Path\n",
    "\n",
    "import torch\n",
    "from timesformer.models.vit import TimeSformer"
   ]
  },
  {
   "cell_type": "code",
   "execution_count": null,
   "id": "10239d32",
   "metadata": {},
   "outputs": [],
   "source": [
    "# model_file = Path.home()/'TimeSformer_divST_8x32_224_K600.pyth'\n",
    "\n",
    "# 'TimeSformer/models/TimeSformer_divST_8x32_224_K600.pyth'\n",
    "# model_file.exists()"
   ]
  },
  {
   "cell_type": "code",
   "execution_count": null,
   "id": "652fb03e",
   "metadata": {},
   "outputs": [],
   "source": [
    "model_file = 'TimeSformer_divST_8x32_224_K600.pyth'\n",
    "model = TimeSformer(img_size=224, num_classes=600, num_frames=8, \n",
    "                    attention_type='divided_space_time',  pretrained_model=str(model_file))"
   ]
  },
  {
   "cell_type": "code",
   "execution_count": null,
   "id": "83de13c5-791c-4db7-aba4-6d29ce88584e",
   "metadata": {},
   "outputs": [],
   "source": [
    "dummy_video = torch.randn(2, 3, 8, 224, 224) # (batch x channels x frames x height x width)\n",
    "pred = model(dummy_video,) # (2, 600)\n",
    "\n",
    "assert pred.shape == (2,600)\n",
    "pred.shape"
   ]
  },
  {
   "cell_type": "code",
   "execution_count": null,
   "id": "c3ba5bc9-a8f7-40f3-822a-45018bf6993c",
   "metadata": {},
   "outputs": [],
   "source": [
    "f1 = torch.randn(2, 8, 768)\n",
    "f2 = torch.mean(f1, 1, keepdim=True)\n",
    "f3 = torch.mean(f1, 1, keepdim=False)\n",
    "f2.shape, f3.shape"
   ]
  },
  {
   "cell_type": "code",
   "execution_count": null,
   "id": "5411b736-4099-4d29-bdab-620d358066f8",
   "metadata": {},
   "outputs": [],
   "source": [
    "14*14*8"
   ]
  },
  {
   "cell_type": "code",
   "execution_count": null,
   "id": "830486a0-1406-4881-a296-6bed682332d6",
   "metadata": {},
   "outputs": [],
   "source": []
  }
 ],
 "metadata": {
  "kernelspec": {
   "display_name": "Python 3",
   "language": "python",
   "name": "python3"
  },
  "language_info": {
   "codemirror_mode": {
    "name": "ipython",
    "version": 3
   },
   "file_extension": ".py",
   "mimetype": "text/x-python",
   "name": "python",
   "nbconvert_exporter": "python",
   "pygments_lexer": "ipython3",
   "version": "3.7.9"
  }
 },
 "nbformat": 4,
 "nbformat_minor": 5
}
